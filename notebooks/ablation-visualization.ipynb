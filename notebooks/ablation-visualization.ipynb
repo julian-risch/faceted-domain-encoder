{
 "cells": [
  {
   "cell_type": "code",
   "execution_count": null,
   "metadata": {},
   "outputs": [],
   "source": [
    "import os\n",
    "from path import Path\n",
    "\n",
    "# Change working directory to project root\n",
    "os.chdir(Path(os.getcwd()).parent)"
   ]
  },
  {
   "cell_type": "code",
   "execution_count": null,
   "metadata": {},
   "outputs": [],
   "source": [
    "import altair as alt\n",
    "import ast\n",
    "import matplotlib.pyplot as plt\n",
    "import pandas as pd\n",
    "import seaborn as sns\n",
    "import yaml\n",
    "\n",
    "from omegaconf import OmegaConf"
   ]
  },
  {
   "cell_type": "code",
   "execution_count": null,
   "metadata": {},
   "outputs": [],
   "source": [
    "def read_config(base_dir, model_dir):\n",
    "    path = os.path.join(base_dir, model_dir, '.hydra', 'config.yaml')\n",
    "\n",
    "    with open(path, 'r') as f:\n",
    "        return OmegaConf.create(yaml.safe_load(f))\n",
    "\n",
    "def read_df(base_fir, model_dir, file, config):\n",
    "    df = pd.read_csv(os.path.join(base_dir, model_dir, file))\n",
    "    df['encoder'] = encoder(config.model.encoder)\n",
    "    df['pooling'] = pooling(config.model.pooling)\n",
    "    df['normalization'] = config.model.normalizer\n",
    "    df['dataset'] = config.data.name\n",
    "    return df\n",
    "\n",
    "def encoder(text):\n",
    "    if text == 'transformer':\n",
    "        return text.capitalize()\n",
    "    else:\n",
    "        return text.upper()\n",
    "\n",
    "def pooling(text):\n",
    "    return text.replace('_', ' ').capitalize()"
   ]
  },
  {
   "cell_type": "code",
   "execution_count": null,
   "metadata": {},
   "outputs": [],
   "source": [
    "base_dir = 'outputs'\n",
    "ablation_dfs = []\n",
    "unique_ablation_dfs = []\n",
    "\n",
    "for model_dir in sorted(os.listdir(base_dir)):\n",
    "    if not model_dir.startswith('.') and model_dir != 'multirun.yaml':\n",
    "        config = read_config(base_dir, model_dir)\n",
    "        ablation_dfs.append(read_df(base_dir, model_dir, 'ablation.csv', config))\n",
    "        unique_ablation_dfs.append(read_df(base_dir, model_dir, 'ablation_unique.csv', config))\n",
    "\n",
    "ablation_df = pd.concat(ablation_dfs, sort=True)\n",
    "unique_ablation_df = pd.concat(unique_ablation_dfs, sort=True)\n",
    "\n",
    "ablation_df.distance_tokens = ablation_df.distance_tokens.map(ast.literal_eval)\n",
    "ablation_df.attention_categories = ablation_df.distance_categories.map(ast.literal_eval)"
   ]
  },
  {
   "cell_type": "code",
   "execution_count": null,
   "metadata": {},
   "outputs": [],
   "source": [
    "def plot_map(df, title, labels=False):\n",
    "\n",
    "    source = df[df.pooling == 'Category attention']\n",
    "    base = alt.Chart(source, title=title, width=180, height=300)\n",
    "    \n",
    "    point = base.mark_point(filled=True, color='black').encode(\n",
    "        y=alt.Y('ablation_category:N', title='', axis=alt.Axis(labels=labels), sort=None),\n",
    "        x=alt.X('mean(distance_map)', scale=alt.Scale(domain=[0, 1]))\n",
    "    )\n",
    "    \n",
    "    ci = base.mark_errorbar(extent='ci').encode(\n",
    "        y=alt.Y('ablation_category:N', title='', sort=None),\n",
    "        x=alt.X('distance_map:Q', title='')\n",
    "    )\n",
    "\n",
    "    source['approach'] = 'Category Attention'\n",
    "    categpory_attention = base.mark_rule(color='red').encode(\n",
    "        x=alt.X('mean(distance_map)', title='Mean Average Precision'),\n",
    "        color=alt.Color('approach', title=''),\n",
    "        tooltip='mean(distance_map)'\n",
    "    )\n",
    "\n",
    "    source['random_baseline'] = 'Random Order'\n",
    "    random = base.mark_rule(strokeDash=[2,2]).encode(\n",
    "        x=alt.X('mean(random_map)'),\n",
    "        color=alt.Color('random_baseline', title=''),\n",
    "        tooltip='mean(random_map)'\n",
    "    )\n",
    "\n",
    "    source = df[df.pooling == 'Self attention']\n",
    "    source['self_attention_baseline'] = 'Self Attention'\n",
    "    self_attention = alt.Chart(source).mark_rule(strokeDash=[6,2]).encode(\n",
    "        x=alt.X('mean(distance_map)'),\n",
    "        color=alt.Color('self_attention_baseline', title=''),\n",
    "        tooltip='mean(distance_map)'\n",
    "    )\n",
    "    \n",
    "    return (point + ci + categpory_attention + self_attention + random)\n",
    "\n",
    "def plot_sample_size(df, title, labels=False):\n",
    "    source = df.groupby('ablation_category').size().reset_index()\n",
    "    source.columns = ['ablation_category', 'Sample Size']\n",
    "    \n",
    "    bar = alt.Chart(source, title=title, width=80, height=300).mark_text().encode(\n",
    "        y=alt.Y('ablation_category:N', title='', axis=None),\n",
    "        text='Sample Size:Q'\n",
    "    )\n",
    "    return bar\n",
    "\n",
    "\n",
    "def plot(dataset, encoder, pooling='Category attention'):\n",
    "    source = ablation_df[(ablation_df.dataset == dataset) & (ablation_df.encoder == encoder)]\n",
    "    source_unique = unique_ablation_df[(unique_ablation_df.dataset == dataset) & (ablation_df.encoder == encoder)]\n",
    "    \n",
    "    return alt.hconcat(\n",
    "        plot_map(source, title='Category Entities', labels=True),\n",
    "        plot_map(source_unique, title='Unique Category Entities'),\n",
    "        #plot_sample_size(source, title='Sample Size')\n",
    "    ).configure_axis(\n",
    "        labelFontSize=14,\n",
    "        titleFontSize=14,\n",
    "        labelFontWeight='normal',\n",
    "        titleFontWeight='normal',\n",
    "    ).configure_legend(\n",
    "        labelFontSize=14\n",
    "    ).configure_axisY(\n",
    "        titleFontWeight='normal'\n",
    "    ).configure_axisX(\n",
    "        titlePadding=10\n",
    "    ).configure_title(\n",
    "        fontSize=14,\n",
    "    )"
   ]
  },
  {
   "cell_type": "code",
   "execution_count": null,
   "metadata": {},
   "outputs": [],
   "source": [
    "plot('aviation_case_ablation', 'LSTM')"
   ]
  },
  {
   "cell_type": "code",
   "execution_count": null,
   "metadata": {},
   "outputs": [],
   "source": [
    "plot('aviation_email_classification', 'LSTM')"
   ]
  },
  {
   "cell_type": "code",
   "execution_count": null,
   "metadata": {},
   "outputs": [],
   "source": [
    "plot('ohsumed_classification', 'LSTM')"
   ]
  },
  {
   "cell_type": "code",
   "execution_count": null,
   "metadata": {},
   "outputs": [],
   "source": [
    "def dataset(text):\n",
    "    if text == 'aviation_case_ablation':\n",
    "        return 'Case (Aviation)'\n",
    "    elif text == 'aviation_email_classification':\n",
    "        return 'Email (Aviation)'\n",
    "    elif text == 'ohsumed_classification':\n",
    "        return 'OHSUMED (MeSH)'\n",
    "\n",
    "source = ablation_df[ablation_df.pooling == 'Category attention']\n",
    "source.dataset = source.dataset.map(dataset)\n",
    "\n",
    "alt.data_transformers.disable_max_rows()\n",
    "alt.Chart(source, width=300).mark_line(point=True).encode(\n",
    "    x='encoder:N',\n",
    "    y=alt.Y('average(attention_map)', scale=alt.Scale(domain=(0, 1)), title='Mean Pearson Correlation r'),\n",
    "    color='dataset'\n",
    ") + alt.Chart(source).mark_errorband(extent='ci').encode(\n",
    "    x='encoder:N',\n",
    "    y=alt.Y('average(attention_map)', scale=alt.Scale(domain=(1, 0)), title='Mean Pearson Correlation r'),\n",
    "    color='dataset'\n",
    ")"
   ]
  }
 ],
 "metadata": {
  "kernelspec": {
   "display_name": "Python 3.7.6 64-bit ('torchenv': conda)",
   "language": "python",
   "name": "python37664bittorchenvcondaaaccdb80995d4ba8ae875d4ea0695c98"
  },
  "language_info": {
   "codemirror_mode": {
    "name": "ipython",
    "version": 3
   },
   "file_extension": ".py",
   "mimetype": "text/x-python",
   "name": "python",
   "nbconvert_exporter": "python",
   "pygments_lexer": "ipython3",
   "version": "3.7.6"
  }
 },
 "nbformat": 4,
 "nbformat_minor": 4
}
