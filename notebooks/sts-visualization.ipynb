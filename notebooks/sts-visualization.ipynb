{
 "cells": [
  {
   "cell_type": "code",
   "execution_count": 160,
   "metadata": {},
   "outputs": [],
   "source": [
    "import altair as alt\n",
    "import matplotlib.pyplot as plt\n",
    "import seaborn as sns\n",
    "sns.set_context('paper', font_scale=1.2)"
   ]
  },
  {
   "cell_type": "code",
   "execution_count": 353,
   "metadata": {},
   "outputs": [],
   "source": [
    "df = pd.DataFrame({\n",
    "    'Sequence Encoder': ['GRU', 'GRU', 'GRU', 'GRU', 'GRU', 'GRU', 'LSTM', 'LSTM', 'LSTM', 'LSTM', 'LSTM', 'LSTM', 'Transformer', 'Transformer', 'Transformer', 'Transformer', 'Transformer', 'Transformer'],\n",
    "    'Pooling': ['Self Attention', 'Self Attention', 'Self Attention', 'Graph Attention', 'Graph Attention', 'Graph Attention', 'Self Attention', 'Self Attention', 'Self Attention', 'Graph Attention', 'Graph Attention', 'Graph Attention', 'Self Attention', 'Self Attention', 'Self Attention', 'Graph Attention', 'Graph Attention', 'Graph Attention'],\n",
    "    'Normalization': ['None', 'Corpus', 'Document', 'None', 'Corpus', 'Document', 'None', 'Corpus', 'Document', 'None', 'Corpus', 'Document', 'None', 'Corpus', 'Document', 'None', 'Corpus', 'Document'],\n",
    "    #'BIOSSES Train': [0.598, 0.602, 0.603, 0.537, 0.619, 0.59, 0.57, 0.547, 0.56, 0.564, 0.583, 0.536, 0.516, 0.513, 0.517, 0.455, 0.441, 0.448],\n",
    "    'BIOSSES Test': [0.612, 0.577, 0.58, 0.532, 0.622, 0.585, 0.617, 0.578, 0.563, 0.58, 0.590, 0.547, 0.541, 0.514, 0.533, 0.482, 0.447, 0.438],\n",
    "    #'MedSTS Train': [0.735, 0.713, 0.685, 0.777, 0.75, 0.697, 0.736, 0.695, 0.648, 0.771, 0.759, 0.683, 0.657, 0.626, 0.662, 0.689, 0.711, 0.659],\n",
    "    'MedSTS Test': [0.71, 0.674, 0.663, 0.749, 0.721, 0.663, 0.722, 0.674, 0.61, 0.738, 0.74, 0.663, 0.62, 0.51, 0.591, 0.652, 0.651, 0.635]\n",
    "})"
   ]
  },
  {
   "cell_type": "code",
   "execution_count": 354,
   "metadata": {},
   "outputs": [],
   "source": [
    "df = df.melt(id_vars=['Sequence Encoder', 'Pooling', 'Normalization'])\n",
    "df.columns = df.columns.to_list()[:3] + ['STS', 'Pearson-R']"
   ]
  },
  {
   "cell_type": "code",
   "execution_count": 335,
   "metadata": {
    "scrolled": true
   },
   "outputs": [
    {
     "data": {
      "text/html": [
       "\n",
       "<div id=\"altair-viz-1c52377e3b4d458c80c14e733a9c92c8\"></div>\n",
       "<script type=\"text/javascript\">\n",
       "  (function(spec, embedOpt){\n",
       "    const outputDiv = document.getElementById(\"altair-viz-1c52377e3b4d458c80c14e733a9c92c8\");\n",
       "    const paths = {\n",
       "      \"vega\": \"https://cdn.jsdelivr.net/npm//vega@5?noext\",\n",
       "      \"vega-lib\": \"https://cdn.jsdelivr.net/npm//vega-lib?noext\",\n",
       "      \"vega-lite\": \"https://cdn.jsdelivr.net/npm//vega-lite@4.0.2?noext\",\n",
       "      \"vega-embed\": \"https://cdn.jsdelivr.net/npm//vega-embed@6?noext\",\n",
       "    };\n",
       "\n",
       "    function loadScript(lib) {\n",
       "      return new Promise(function(resolve, reject) {\n",
       "        var s = document.createElement('script');\n",
       "        s.src = paths[lib];\n",
       "        s.async = true;\n",
       "        s.onload = () => resolve(paths[lib]);\n",
       "        s.onerror = () => reject(`Error loading script: ${paths[lib]}`);\n",
       "        document.getElementsByTagName(\"head\")[0].appendChild(s);\n",
       "      });\n",
       "    }\n",
       "\n",
       "    function showError(err) {\n",
       "      outputDiv.innerHTML = `<div class=\"error\" style=\"color:red;\">${err}</div>`;\n",
       "      throw err;\n",
       "    }\n",
       "\n",
       "    function displayChart(vegaEmbed) {\n",
       "      vegaEmbed(outputDiv, spec, embedOpt)\n",
       "        .catch(err => showError(`Javascript Error: ${err.message}<br>This usually means there's a typo in your chart specification. See the javascript console for the full traceback.`));\n",
       "    }\n",
       "\n",
       "    if(typeof define === \"function\" && define.amd) {\n",
       "      requirejs.config({paths});\n",
       "      require([\"vega-embed\"], displayChart, err => showError(`Error loading script: ${err.message}`));\n",
       "    } else if (typeof vegaEmbed === \"function\") {\n",
       "      displayChart(vegaEmbed);\n",
       "    } else {\n",
       "      loadScript(\"vega\")\n",
       "        .then(() => loadScript(\"vega-lite\"))\n",
       "        .then(() => loadScript(\"vega-embed\"))\n",
       "        .catch(showError)\n",
       "        .then(() => displayChart(vegaEmbed));\n",
       "    }\n",
       "  })({\"config\": {\"view\": {\"continuousWidth\": 400, \"continuousHeight\": 300}, \"axis\": {\"labelFontSize\": 14, \"labelFontWeight\": \"normal\", \"titleFontSize\": 14}, \"axisX\": {\"titlePadding\": 20}, \"axisY\": {\"titleFontWeight\": \"normal\"}, \"legend\": {\"labelFontSize\": 14}}, \"hconcat\": [{\"layer\": [{\"mark\": {\"type\": \"line\", \"point\": true}, \"encoding\": {\"color\": {\"type\": \"nominal\", \"field\": \"STS\"}, \"x\": {\"type\": \"nominal\", \"field\": \"Sequence Encoder\"}, \"y\": {\"type\": \"quantitative\", \"aggregate\": \"average\", \"field\": \"Pearson-R\", \"scale\": {\"domain\": [0.3, 0.9]}, \"title\": \"Mean Pearson Correlation r\"}}, \"width\": 150}, {\"mark\": {\"type\": \"errorband\", \"extent\": \"ci\"}, \"encoding\": {\"color\": {\"type\": \"nominal\", \"field\": \"STS\"}, \"x\": {\"type\": \"nominal\", \"field\": \"Sequence Encoder\"}, \"y\": {\"type\": \"quantitative\", \"aggregate\": \"average\", \"field\": \"Pearson-R\", \"scale\": {\"domain\": [0.3, 0.9]}, \"title\": \"Mean Pearson Correlation r\"}}}]}, {\"layer\": [{\"mark\": {\"type\": \"line\", \"point\": true}, \"encoding\": {\"color\": {\"type\": \"nominal\", \"field\": \"STS\"}, \"x\": {\"type\": \"nominal\", \"field\": \"Pooling\"}, \"y\": {\"type\": \"quantitative\", \"aggregate\": \"average\", \"field\": \"Pearson-R\", \"scale\": {\"domain\": [0.3, 0.9]}, \"title\": \"Mean Pearson Correlation r\"}}, \"width\": 100}, {\"mark\": {\"type\": \"errorband\", \"extent\": \"ci\"}, \"encoding\": {\"color\": {\"type\": \"nominal\", \"field\": \"STS\"}, \"x\": {\"type\": \"nominal\", \"field\": \"Pooling\"}, \"y\": {\"type\": \"quantitative\", \"aggregate\": \"average\", \"field\": \"Pearson-R\", \"scale\": {\"domain\": [0.3, 0.9]}, \"title\": \"Mean Pearson Correlation r\"}}}]}, {\"layer\": [{\"mark\": {\"type\": \"line\", \"point\": true}, \"encoding\": {\"color\": {\"type\": \"nominal\", \"field\": \"STS\"}, \"x\": {\"type\": \"nominal\", \"field\": \"Normalization\"}, \"y\": {\"type\": \"quantitative\", \"aggregate\": \"average\", \"field\": \"Pearson-R\", \"scale\": {\"domain\": [0.3, 0.9]}, \"title\": \"Mean Pearson Correlation r\"}}, \"width\": 150}, {\"mark\": {\"type\": \"errorband\", \"extent\": \"ci\"}, \"encoding\": {\"color\": {\"type\": \"nominal\", \"field\": \"STS\"}, \"x\": {\"type\": \"nominal\", \"field\": \"Normalization\"}, \"y\": {\"type\": \"quantitative\", \"aggregate\": \"average\", \"field\": \"Pearson-R\", \"scale\": {\"domain\": [0.3, 0.9]}, \"title\": \"Mean Pearson Correlation r\"}}}]}], \"data\": {\"name\": \"data-0ba71cd423370a9cb8591f2497b01fa2\"}, \"$schema\": \"https://vega.github.io/schema/vega-lite/v4.0.2.json\", \"datasets\": {\"data-0ba71cd423370a9cb8591f2497b01fa2\": [{\"Sequence Encoder\": \"GRU\", \"Pooling\": \"Self Attention\", \"Normalization\": \"None\", \"STS\": \"BIOSSES Test\", \"Pearson-R\": 0.612}, {\"Sequence Encoder\": \"GRU\", \"Pooling\": \"Self Attention\", \"Normalization\": \"Corpus\", \"STS\": \"BIOSSES Test\", \"Pearson-R\": 0.577}, {\"Sequence Encoder\": \"GRU\", \"Pooling\": \"Self Attention\", \"Normalization\": \"Document\", \"STS\": \"BIOSSES Test\", \"Pearson-R\": 0.58}, {\"Sequence Encoder\": \"GRU\", \"Pooling\": \"Graph Attention\", \"Normalization\": \"None\", \"STS\": \"BIOSSES Test\", \"Pearson-R\": 0.532}, {\"Sequence Encoder\": \"GRU\", \"Pooling\": \"Graph Attention\", \"Normalization\": \"Corpus\", \"STS\": \"BIOSSES Test\", \"Pearson-R\": 0.622}, {\"Sequence Encoder\": \"GRU\", \"Pooling\": \"Graph Attention\", \"Normalization\": \"Document\", \"STS\": \"BIOSSES Test\", \"Pearson-R\": 0.585}, {\"Sequence Encoder\": \"LSTM\", \"Pooling\": \"Self Attention\", \"Normalization\": \"None\", \"STS\": \"BIOSSES Test\", \"Pearson-R\": 0.617}, {\"Sequence Encoder\": \"LSTM\", \"Pooling\": \"Self Attention\", \"Normalization\": \"Corpus\", \"STS\": \"BIOSSES Test\", \"Pearson-R\": 0.578}, {\"Sequence Encoder\": \"LSTM\", \"Pooling\": \"Self Attention\", \"Normalization\": \"Document\", \"STS\": \"BIOSSES Test\", \"Pearson-R\": 0.563}, {\"Sequence Encoder\": \"LSTM\", \"Pooling\": \"Graph Attention\", \"Normalization\": \"None\", \"STS\": \"BIOSSES Test\", \"Pearson-R\": 0.58}, {\"Sequence Encoder\": \"LSTM\", \"Pooling\": \"Graph Attention\", \"Normalization\": \"Corpus\", \"STS\": \"BIOSSES Test\", \"Pearson-R\": 0.59}, {\"Sequence Encoder\": \"LSTM\", \"Pooling\": \"Graph Attention\", \"Normalization\": \"Document\", \"STS\": \"BIOSSES Test\", \"Pearson-R\": 0.547}, {\"Sequence Encoder\": \"Transformer\", \"Pooling\": \"Self Attention\", \"Normalization\": \"None\", \"STS\": \"BIOSSES Test\", \"Pearson-R\": 0.541}, {\"Sequence Encoder\": \"Transformer\", \"Pooling\": \"Self Attention\", \"Normalization\": \"Corpus\", \"STS\": \"BIOSSES Test\", \"Pearson-R\": 0.514}, {\"Sequence Encoder\": \"Transformer\", \"Pooling\": \"Self Attention\", \"Normalization\": \"Document\", \"STS\": \"BIOSSES Test\", \"Pearson-R\": 0.533}, {\"Sequence Encoder\": \"Transformer\", \"Pooling\": \"Graph Attention\", \"Normalization\": \"None\", \"STS\": \"BIOSSES Test\", \"Pearson-R\": 0.482}, {\"Sequence Encoder\": \"Transformer\", \"Pooling\": \"Graph Attention\", \"Normalization\": \"Corpus\", \"STS\": \"BIOSSES Test\", \"Pearson-R\": 0.447}, {\"Sequence Encoder\": \"Transformer\", \"Pooling\": \"Graph Attention\", \"Normalization\": \"Document\", \"STS\": \"BIOSSES Test\", \"Pearson-R\": 0.438}, {\"Sequence Encoder\": \"GRU\", \"Pooling\": \"Self Attention\", \"Normalization\": \"None\", \"STS\": \"MedSTS Test\", \"Pearson-R\": 0.71}, {\"Sequence Encoder\": \"GRU\", \"Pooling\": \"Self Attention\", \"Normalization\": \"Corpus\", \"STS\": \"MedSTS Test\", \"Pearson-R\": 0.674}, {\"Sequence Encoder\": \"GRU\", \"Pooling\": \"Self Attention\", \"Normalization\": \"Document\", \"STS\": \"MedSTS Test\", \"Pearson-R\": 0.663}, {\"Sequence Encoder\": \"GRU\", \"Pooling\": \"Graph Attention\", \"Normalization\": \"None\", \"STS\": \"MedSTS Test\", \"Pearson-R\": 0.749}, {\"Sequence Encoder\": \"GRU\", \"Pooling\": \"Graph Attention\", \"Normalization\": \"Corpus\", \"STS\": \"MedSTS Test\", \"Pearson-R\": 0.721}, {\"Sequence Encoder\": \"GRU\", \"Pooling\": \"Graph Attention\", \"Normalization\": \"Document\", \"STS\": \"MedSTS Test\", \"Pearson-R\": 0.663}, {\"Sequence Encoder\": \"LSTM\", \"Pooling\": \"Self Attention\", \"Normalization\": \"None\", \"STS\": \"MedSTS Test\", \"Pearson-R\": 0.722}, {\"Sequence Encoder\": \"LSTM\", \"Pooling\": \"Self Attention\", \"Normalization\": \"Corpus\", \"STS\": \"MedSTS Test\", \"Pearson-R\": 0.674}, {\"Sequence Encoder\": \"LSTM\", \"Pooling\": \"Self Attention\", \"Normalization\": \"Document\", \"STS\": \"MedSTS Test\", \"Pearson-R\": 0.61}, {\"Sequence Encoder\": \"LSTM\", \"Pooling\": \"Graph Attention\", \"Normalization\": \"None\", \"STS\": \"MedSTS Test\", \"Pearson-R\": 0.738}, {\"Sequence Encoder\": \"LSTM\", \"Pooling\": \"Graph Attention\", \"Normalization\": \"Corpus\", \"STS\": \"MedSTS Test\", \"Pearson-R\": 0.74}, {\"Sequence Encoder\": \"LSTM\", \"Pooling\": \"Graph Attention\", \"Normalization\": \"Document\", \"STS\": \"MedSTS Test\", \"Pearson-R\": 0.663}, {\"Sequence Encoder\": \"Transformer\", \"Pooling\": \"Self Attention\", \"Normalization\": \"None\", \"STS\": \"MedSTS Test\", \"Pearson-R\": 0.62}, {\"Sequence Encoder\": \"Transformer\", \"Pooling\": \"Self Attention\", \"Normalization\": \"Corpus\", \"STS\": \"MedSTS Test\", \"Pearson-R\": 0.51}, {\"Sequence Encoder\": \"Transformer\", \"Pooling\": \"Self Attention\", \"Normalization\": \"Document\", \"STS\": \"MedSTS Test\", \"Pearson-R\": 0.591}, {\"Sequence Encoder\": \"Transformer\", \"Pooling\": \"Graph Attention\", \"Normalization\": \"None\", \"STS\": \"MedSTS Test\", \"Pearson-R\": 0.652}, {\"Sequence Encoder\": \"Transformer\", \"Pooling\": \"Graph Attention\", \"Normalization\": \"Corpus\", \"STS\": \"MedSTS Test\", \"Pearson-R\": 0.651}, {\"Sequence Encoder\": \"Transformer\", \"Pooling\": \"Graph Attention\", \"Normalization\": \"Document\", \"STS\": \"MedSTS Test\", \"Pearson-R\": 0.635}]}}, {\"mode\": \"vega-lite\"});\n",
       "</script>"
      ],
      "text/plain": [
       "alt.HConcatChart(...)"
      ]
     },
     "execution_count": 335,
     "metadata": {},
     "output_type": "execute_result"
    }
   ],
   "source": [
    "sequence = alt.Chart(df, width=150).mark_line(point=True).encode(\n",
    "    x='Sequence Encoder:N',\n",
    "    y=alt.Y('average(Pearson-R)', scale=alt.Scale(domain=(0.3, 0.9)), title='Mean Pearson Correlation r'),\n",
    "    color='STS'\n",
    ") + alt.Chart(df).mark_errorband(extent='ci').encode(\n",
    "    x='Sequence Encoder:N',\n",
    "    y=alt.Y('average(Pearson-R)', scale=alt.Scale(domain=(0.3, 0.9)), title='Mean Pearson Correlation r'),\n",
    "    color='STS'\n",
    ")\n",
    "\n",
    "pooling = alt.Chart(df, width=100).mark_line(point=True).encode(\n",
    "    x='Pooling:N',\n",
    "    y=alt.Y('average(Pearson-R)', scale=alt.Scale(domain=(0.3, 0.9)), title='Mean Pearson Correlation r'),\n",
    "    color='STS'\n",
    ") + alt.Chart(df).mark_errorband(extent='ci').encode(\n",
    "    x='Pooling:N',\n",
    "    y=alt.Y('average(Pearson-R)', scale=alt.Scale(domain=(0.3, 0.9)), title='Mean Pearson Correlation r'),\n",
    "    color='STS'\n",
    ")\n",
    "\n",
    "\n",
    "normalization = alt.Chart(df, width=150).mark_line(point=True).encode(\n",
    "    x='Normalization:N',\n",
    "    y=alt.Y('average(Pearson-R)', scale=alt.Scale(domain=(0.3, 0.9)), title='Mean Pearson Correlation r'),\n",
    "    color='STS'\n",
    ") + alt.Chart(df).mark_errorband(extent='ci').encode(\n",
    "    x='Normalization:N',\n",
    "    y=alt.Y('average(Pearson-R)', scale=alt.Scale(domain=(0.3, 0.9)), title='Mean Pearson Correlation r'),\n",
    "    color='STS'\n",
    ")\n",
    "\n",
    "alt.hconcat(sequence, pooling, normalization).configure_axis(\n",
    "    labelFontSize=14,\n",
    "    titleFontSize=14,\n",
    "    labelFontWeight='normal',\n",
    ").configure_legend(\n",
    "    labelFontSize=14\n",
    ").configure_axisY(\n",
    "    titleFontWeight='normal'\n",
    ").configure_axisX(\n",
    "    titlePadding=20\n",
    ")"
   ]
  }
 ],
 "metadata": {
  "kernelspec": {
   "display_name": "Python 3.7.6 64-bit ('torchenv': conda)",
   "language": "python",
   "name": "python37664bittorchenvcondaaaccdb80995d4ba8ae875d4ea0695c98"
  },
  "language_info": {
   "codemirror_mode": {
    "name": "ipython",
    "version": 3
   },
   "file_extension": ".py",
   "mimetype": "text/x-python",
   "name": "python",
   "nbconvert_exporter": "python",
   "pygments_lexer": "ipython3",
   "version": "3.7.6"
  }
 },
 "nbformat": 4,
 "nbformat_minor": 4
}
